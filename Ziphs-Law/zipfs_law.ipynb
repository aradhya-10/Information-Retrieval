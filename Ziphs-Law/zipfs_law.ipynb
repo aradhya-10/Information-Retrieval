{
  "nbformat": 4,
  "nbformat_minor": 0,
  "metadata": {
    "kernelspec": {
      "display_name": "Python 3",
      "language": "python",
      "name": "python3"
    },
    "language_info": {
      "codemirror_mode": {
        "name": "ipython",
        "version": 2
      },
      "file_extension": ".py",
      "mimetype": "text/x-python",
      "name": "python",
      "nbconvert_exporter": "python",
      "pygments_lexer": "ipython2",
      "version": "2.7.13"
    },
    "colab": {
      "name": "czipfs_law.ipynb",
      "provenance": [],
      "collapsed_sections": [],
      "include_colab_link": true
    }
  },
  "cells": [
    {
      "cell_type": "markdown",
      "metadata": {
        "id": "view-in-github",
        "colab_type": "text"
      },
      "source": [
        "<a href=\"https://colab.research.google.com/github/tirth5828/Information-Retrieval/blob/main/Ziphs-Law/zipfs_law.ipynb\" target=\"_parent\"><img src=\"https://colab.research.google.com/assets/colab-badge.svg\" alt=\"Open In Colab\"/></a>"
      ]
    },
    {
      "cell_type": "code",
      "metadata": {
        "id": "jm7HlpspFjJc"
      },
      "source": [
        "import nltk\n",
        "import scipy.stats as ss\n",
        "import matplotlib.pyplot as plt \n",
        "import math"
      ],
      "execution_count": null,
      "outputs": []
    },
    {
      "cell_type": "code",
      "metadata": {
        "id": "lXSy5Cg2FjJl"
      },
      "source": [
        "from nltk.corpus import reuters\n",
        "from nltk.corpus import wordnet"
      ],
      "execution_count": null,
      "outputs": []
    },
    {
      "cell_type": "code",
      "metadata": {
        "colab": {
          "base_uri": "https://localhost:8080/"
        },
        "id": "-AmMA00QuPIH",
        "outputId": "bfd74d61-6e5b-4130-c131-0c348ea4a46e"
      },
      "source": [
        "nltk.download('reuters')"
      ],
      "execution_count": null,
      "outputs": [
        {
          "output_type": "stream",
          "name": "stderr",
          "text": [
            "[nltk_data] Downloading package reuters to /root/nltk_data...\n"
          ]
        },
        {
          "output_type": "execute_result",
          "data": {
            "text/plain": [
              "True"
            ]
          },
          "metadata": {},
          "execution_count": 3
        }
      ]
    },
    {
      "cell_type": "code",
      "metadata": {
        "id": "xsf0IxpXFjJn"
      },
      "source": [
        "reuters_words = [w.lower() for w in reuters.words()]\n",
        "words = set(reuters_words)\n",
        "counts = [(w, reuters_words.count(w)) for w in words]"
      ],
      "execution_count": null,
      "outputs": []
    },
    {
      "cell_type": "code",
      "metadata": {
        "id": "IJ11vO7pFjJn"
      },
      "source": [
        "words_1 = [w for (w, c) in counts]\n",
        "counts_1 = [c for (w, c) in counts]"
      ],
      "execution_count": null,
      "outputs": []
    },
    {
      "cell_type": "code",
      "metadata": {
        "id": "8FNDJN-sFjJo",
        "outputId": "482d1963-904e-4a24-f44c-c41a6d552312",
        "colab": {
          "base_uri": "https://localhost:8080/"
        }
      },
      "source": [
        "count_rank = ss.rankdata([c for (w, c) in counts])\n",
        "count_rank"
      ],
      "execution_count": null,
      "outputs": [
        {
          "output_type": "execute_result",
          "data": {
            "text/plain": [
              "array([30469. , 13183.5,  5513. , ..., 16537.5, 24855.5,  5513. ])"
            ]
          },
          "metadata": {},
          "execution_count": 6
        }
      ]
    },
    {
      "cell_type": "code",
      "metadata": {
        "id": "VTMf1VU-FjJq"
      },
      "source": [
        "counts_ranked = zip(words_1, counts_1, count_rank)\n",
        "#counts_ranked[100:110]"
      ],
      "execution_count": null,
      "outputs": []
    },
    {
      "cell_type": "code",
      "metadata": {
        "id": "4V_IRw0TFjJr",
        "outputId": "b8bde061-d6e8-423a-dcb6-14889942e9ab",
        "colab": {
          "base_uri": "https://localhost:8080/"
        }
      },
      "source": [
        "counts_sorted = sorted(counts_ranked, key=lambda item: item[2])\n",
        "counts_sorted[20000:20010]"
      ],
      "execution_count": null,
      "outputs": [
        {
          "output_type": "execute_result",
          "data": {
            "text/plain": [
              "[('rebounded', 5, 19949.0),\n",
              " ('therapy', 5, 19949.0),\n",
              " ('umar', 5, 19949.0),\n",
              " ('cancer', 5, 19949.0),\n",
              " ('surpass', 5, 19949.0),\n",
              " ('photographic', 5, 19949.0),\n",
              " ('gotten', 5, 19949.0),\n",
              " ('unitel', 5, 19949.0),\n",
              " ('waves', 5, 19949.0),\n",
              " ('dyke', 5, 19949.0)]"
            ]
          },
          "metadata": {},
          "execution_count": 8
        }
      ]
    },
    {
      "cell_type": "code",
      "metadata": {
        "id": "xXhNg-wmFjJt",
        "outputId": "3c8387de-10b5-4b32-8472-266544ebc2b4",
        "colab": {
          "base_uri": "https://localhost:8080/",
          "height": 286
        }
      },
      "source": [
        "L = len(counts_sorted)\n",
        "plt.plot([math.log(L-r+1) for (w, c, r) in counts_sorted], [math.log(c) for (w, c, r) in counts_sorted], 'ro')"
      ],
      "execution_count": null,
      "outputs": [
        {
          "output_type": "execute_result",
          "data": {
            "text/plain": [
              "[<matplotlib.lines.Line2D at 0x7fd1da2bd450>]"
            ]
          },
          "metadata": {},
          "execution_count": 9
        },
        {
          "output_type": "display_data",
          "data": {
            "text/plain": [
              "<Figure size 432x288 with 1 Axes>"
            ],
            "image/png": "[encoded data removed]"
          },
          "metadata": {
            "needs_background": "light"
          }
        }
      ]
    },
    {
      "cell_type": "code",
      "metadata": {
        "id": "GeHobOKfFjJt"
      },
      "source": [
        "import numpy as np"
      ],
      "execution_count": null,
      "outputs": []
    },
    {
      "cell_type": "code",
      "metadata": {
        "id": "23cUphzAFjJu",
        "outputId": "cece2739-c3e6-4ca7-82e1-8d82d39c885d",
        "colab": {
          "base_uri": "https://localhost:8080/"
        }
      },
      "source": [
        "# generate x and y\n",
        "x = [math.log(L-r+1) for (w, c, r) in counts_sorted]\n",
        "y = [math.log(c) for (w,c,r) in counts_sorted]\n",
        "X = np.array(x)\n",
        "Y = np.array(y)\n",
        "A = np.vstack([X, np.ones(len(X))]).T\n",
        "Y_ = Y[:, np.newaxis]\n",
        "alpha = np.dot((np.dot(np.linalg.inv(np.dot(A.T,A)),A.T)),Y_)\n",
        "print(alpha)"
      ],
      "execution_count": null,
      "outputs": [
        {
          "output_type": "stream",
          "name": "stdout",
          "text": [
            "[[-1.59893073]\n",
            " [16.37719998]]\n"
          ]
        }
      ]
    },
    {
      "cell_type": "code",
      "metadata": {
        "id": "pi9L2BPjFjJv",
        "outputId": "9d94ad23-d049-445e-a686-cf357de0ae84",
        "colab": {
          "base_uri": "https://localhost:8080/",
          "height": 279
        }
      },
      "source": [
        "plt.plot(X, Y, 'b.')\n",
        "plt.plot(X, alpha[0]*X + alpha[1], 'r')\n",
        "plt.xlabel('log(rank)')\n",
        "plt.ylabel('log(frequency)')\n",
        "plt.show()"
      ],
      "execution_count": null,
      "outputs": [
        {
          "output_type": "display_data",
          "data": {
            "text/plain": [
              "<Figure size 432x288 with 1 Axes>"
            ],
            "image/png": "[encoded data removed]"
          },
          "metadata": {
            "needs_background": "light"
          }
        }
      ]
    },
    {
      "cell_type": "code",
      "metadata": {
        "id": "5kIrePA0FjJx"
      },
      "source": [
        ""
      ],
      "execution_count": null,
      "outputs": []
    }
  ]
}