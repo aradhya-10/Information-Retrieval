{
 "cells": [
  {
   "cell_type": "code",
   "execution_count": 1,
   "metadata": {
    "id": "jm7HlpspFjJc"
   },
   "outputs": [],
   "source": [
    "import nltk\n",
    "import scipy.stats as ss\n",
    "import matplotlib.pyplot as plt \n",
    "import math"
   ]
  },
  {
   "cell_type": "code",
   "execution_count": 2,
   "metadata": {
    "id": "lXSy5Cg2FjJl"
   },
   "outputs": [],
   "source": [
    "from nltk.corpus import reuters\n",
    "from nltk.corpus import wordnet"
   ]
  },
  {
   "cell_type": "code",
   "execution_count": 3,
   "metadata": {
    "colab": {
     "base_uri": "https://localhost:8080/"
    },
    "id": "-AmMA00QuPIH",
    "outputId": "bfd74d61-6e5b-4130-c131-0c348ea4a46e"
   },
   "outputs": [
    {
     "name": "stderr",
     "output_type": "stream",
     "text": [
      "[nltk_data] Downloading package reuters to C:\\Users\\TIRTH\n",
      "[nltk_data]     JOSHI\\AppData\\Roaming\\nltk_data...\n",
      "[nltk_data]   Package reuters is already up-to-date!\n"
     ]
    },
    {
     "data": {
      "text/plain": [
       "True"
      ]
     },
     "execution_count": 3,
     "metadata": {},
     "output_type": "execute_result"
    }
   ],
   "source": [
    "nltk.download('reuters')"
   ]
  },
  {
   "cell_type": "code",
   "execution_count": 4,
   "metadata": {
    "id": "xsf0IxpXFjJn"
   },
   "outputs": [],
   "source": [
    "reuters_words = [w.lower() for w in reuters.words()]\n",
    "words = set(reuters_words)\n",
    "counts = [(w, reuters_words.count(w)) for w in words]"
   ]
  },
  {
   "cell_type": "code",
   "execution_count": 5,
   "metadata": {
    "id": "IJ11vO7pFjJn"
   },
   "outputs": [],
   "source": [
    "words_1 = [w for (w, c) in counts]\n",
    "counts_1 = [c for (w, c) in counts]"
   ]
  },
  {
   "cell_type": "code",
   "execution_count": 6,
   "metadata": {
    "id": "8FNDJN-sFjJo"
   },
   "outputs": [
    {
     "data": {
      "text/plain": [
       "array([27544.5,  5513. , 13183.5, ..., 25784. , 20936.5, 13183.5])"
      ]
     },
     "execution_count": 6,
     "metadata": {},
     "output_type": "execute_result"
    }
   ],
   "source": [
    "count_rank = ss.rankdata([c for (w, c) in counts])\n",
    "count_rank"
   ]
  },
  {
   "cell_type": "code",
   "execution_count": 7,
   "metadata": {
    "id": "VTMf1VU-FjJq"
   },
   "outputs": [],
   "source": [
    "counts_ranked = zip(words_1, counts_1, count_rank)\n",
    "#counts_ranked[100:110]"
   ]
  },
  {
   "cell_type": "code",
   "execution_count": 8,
   "metadata": {
    "id": "4V_IRw0TFjJr"
   },
   "outputs": [
    {
     "data": {
      "text/plain": [
       "[('surpass', 5, 19949.0),\n",
       " ('trilogy', 5, 19949.0),\n",
       " ('bona', 5, 19949.0),\n",
       " ('taqi', 5, 19949.0),\n",
       " ('norddeutsche', 5, 19949.0),\n",
       " ('jewelmasters', 5, 19949.0),\n",
       " ('nes', 5, 19949.0),\n",
       " ('hectic', 5, 19949.0),\n",
       " ('bukhoosh', 5, 19949.0),\n",
       " ('fslic', 5, 19949.0)]"
      ]
     },
     "execution_count": 8,
     "metadata": {},
     "output_type": "execute_result"
    }
   ],
   "source": [
    "counts_sorted = sorted(counts_ranked, key=lambda item: item[2])\n",
    "counts_sorted[20000:20010]"
   ]
  },
  {
   "cell_type": "code",
   "execution_count": 9,
   "metadata": {
    "id": "xXhNg-wmFjJt"
   },
   "outputs": [
    {
     "data": {
      "text/plain": [
       "[<matplotlib.lines.Line2D at 0x2456c61e6e0>]"
      ]
     },
     "execution_count": 9,
     "metadata": {},
     "output_type": "execute_result"
    },
    {
     "data": {
      "image/png": "[encoded data removed]",
      "text/plain": [
       "<Figure size 432x288 with 1 Axes>"
      ]
     },
     "metadata": {
      "needs_background": "light"
     },
     "output_type": "display_data"
    }
   ],
   "source": [
    "L = len(counts_sorted)\n",
    "plt.plot([math.log(L-r+1) for (w, c, r) in counts_sorted], [math.log(c) for (w, c, r) in counts_sorted], 'ro')"
   ]
  },
  {
   "cell_type": "code",
   "execution_count": 10,
   "metadata": {
    "id": "GeHobOKfFjJt"
   },
   "outputs": [],
   "source": [
    "import numpy as np"
   ]
  },
  {
   "cell_type": "code",
   "execution_count": 11,
   "metadata": {
    "id": "23cUphzAFjJu"
   },
   "outputs": [
    {
     "name": "stdout",
     "output_type": "stream",
     "text": [
      "[[-1.59893073]\n",
      " [16.37719998]]\n"
     ]
    }
   ],
   "source": [
    "# generate x and y\n",
    "x = [math.log(L-r+1) for (w, c, r) in counts_sorted]\n",
    "y = [math.log(c) for (w,c,r) in counts_sorted]\n",
    "X = np.array(x)\n",
    "Y = np.array(y)\n",
    "A = np.vstack([X, np.ones(len(X))]).T\n",
    "Y_ = Y[:, np.newaxis]\n",
    "alpha = np.dot((np.dot(np.linalg.inv(np.dot(A.T,A)),A.T)),Y_)\n",
    "print(alpha)"
   ]
  },
  {
   "cell_type": "code",
   "execution_count": 12,
   "metadata": {
    "id": "pi9L2BPjFjJv"
   },
   "outputs": [
    {
     "data": {
      "image/png": "[encoded data removed]",
      "text/plain": [
       "<Figure size 432x288 with 1 Axes>"
      ]
     },
     "metadata": {
      "needs_background": "light"
     },
     "output_type": "display_data"
    }
   ],
   "source": [
    "plt.plot(X, Y, 'b.')\n",
    "plt.plot(X, alpha[0]*X + alpha[1], 'r')\n",
    "plt.xlabel('log(rank)')\n",
    "plt.ylabel('log(frequency)')\n",
    "plt.show()"
   ]
  },
  {
   "cell_type": "code",
   "execution_count": null,
   "metadata": {
    "id": "5kIrePA0FjJx"
   },
   "outputs": [],
   "source": []
  }
 ],
 "metadata": {
  "colab": {
   "collapsed_sections": [],
   "name": "czipfs_law.ipynb",
   "provenance": []
  },
  "kernelspec": {
   "display_name": "Python 3 (ipykernel)",
   "language": "python",
   "name": "python3"
  },
  "language_info": {
   "codemirror_mode": {
    "name": "ipython",
    "version": 3
   },
   "file_extension": ".py",
   "mimetype": "text/x-python",
   "name": "python",
   "nbconvert_exporter": "python",
   "pygments_lexer": "ipython3",
   "version": "3.10.3"
  }
 },
 "nbformat": 4,
 "nbformat_minor": 1
}
