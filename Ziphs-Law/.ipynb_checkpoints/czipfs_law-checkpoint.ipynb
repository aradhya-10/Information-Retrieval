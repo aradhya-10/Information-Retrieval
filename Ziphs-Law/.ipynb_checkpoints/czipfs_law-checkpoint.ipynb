{
 "cells": [
  {
   "cell_type": "code",
   "execution_count": 1,
   "metadata": {
    "id": "jm7HlpspFjJc"
   },
   "outputs": [],
   "source": [
    "import nltk\n",
    "import scipy.stats as ss\n",
    "import matplotlib.pyplot as plt \n",
    "import math"
   ]
  },
  {
   "cell_type": "code",
   "execution_count": 2,
   "metadata": {
    "id": "lXSy5Cg2FjJl"
   },
   "outputs": [],
   "source": [
    "from nltk.corpus import reuters\n",
    "from nltk.corpus import wordnet"
   ]
  },
  {
   "cell_type": "code",
   "execution_count": null,
   "metadata": {
    "colab": {
     "base_uri": "https://localhost:8080/"
    },
    "id": "-AmMA00QuPIH",
    "outputId": "bfd74d61-6e5b-4130-c131-0c348ea4a46e"
   },
   "outputs": [
    {
     "name": "stderr",
     "output_type": "stream",
     "text": [
      "[nltk_data] Downloading package reuters to C:\\Users\\TIRTH\n",
      "[nltk_data]     JOSHI\\AppData\\Roaming\\nltk_data...\n"
     ]
    }
   ],
   "source": [
    "nltk.download('reuters')"
   ]
  },
  {
   "cell_type": "code",
   "execution_count": null,
   "metadata": {
    "id": "xsf0IxpXFjJn"
   },
   "outputs": [],
   "source": [
    "reuters_words = [w.lower() for w in reuters.words()]\n",
    "words = set(reuters_words)\n",
    "counts = [(w, reuters_words.count(w)) for w in words]"
   ]
  },
  {
   "cell_type": "code",
   "execution_count": null,
   "metadata": {
    "id": "IJ11vO7pFjJn"
   },
   "outputs": [],
   "source": [
    "words_1 = [w for (w, c) in counts]\n",
    "counts_1 = [c for (w, c) in counts]"
   ]
  },
  {
   "cell_type": "code",
   "execution_count": null,
   "metadata": {
    "id": "8FNDJN-sFjJo"
   },
   "outputs": [],
   "source": [
    "count_rank = ss.rankdata([c for (w, c) in counts])\n",
    "count_rank"
   ]
  },
  {
   "cell_type": "code",
   "execution_count": null,
   "metadata": {
    "id": "VTMf1VU-FjJq"
   },
   "outputs": [],
   "source": [
    "counts_ranked = zip(words_1, counts_1, count_rank)\n",
    "#counts_ranked[100:110]"
   ]
  },
  {
   "cell_type": "code",
   "execution_count": null,
   "metadata": {
    "id": "4V_IRw0TFjJr"
   },
   "outputs": [],
   "source": [
    "counts_sorted = sorted(counts_ranked, key=lambda item: item[2])\n",
    "counts_sorted[20000:20010]"
   ]
  },
  {
   "cell_type": "code",
   "execution_count": null,
   "metadata": {
    "id": "xXhNg-wmFjJt"
   },
   "outputs": [],
   "source": [
    "L = len(counts_sorted)\n",
    "plt.plot([math.log(L-r+1) for (w, c, r) in counts_sorted], [math.log(c) for (w, c, r) in counts_sorted], 'ro')"
   ]
  },
  {
   "cell_type": "code",
   "execution_count": null,
   "metadata": {
    "id": "GeHobOKfFjJt"
   },
   "outputs": [],
   "source": [
    "import numpy as np"
   ]
  },
  {
   "cell_type": "code",
   "execution_count": null,
   "metadata": {
    "id": "23cUphzAFjJu"
   },
   "outputs": [],
   "source": [
    "# generate x and y\n",
    "x = [math.log(L-r+1) for (w, c, r) in counts_sorted]\n",
    "y = [math.log(c) for (w,c,r) in counts_sorted]\n",
    "X = np.array(x)\n",
    "Y = np.array(y)\n",
    "A = np.vstack([X, np.ones(len(X))]).T\n",
    "Y_ = Y[:, np.newaxis]\n",
    "alpha = np.dot((np.dot(np.linalg.inv(np.dot(A.T,A)),A.T)),Y_)\n",
    "print(alpha)"
   ]
  },
  {
   "cell_type": "code",
   "execution_count": null,
   "metadata": {
    "id": "pi9L2BPjFjJv"
   },
   "outputs": [],
   "source": [
    "plt.plot(X, Y, 'b.')\n",
    "plt.plot(X, alpha[0]*X + alpha[1], 'r')\n",
    "plt.xlabel('log(rank)')\n",
    "plt.ylabel('log(frequency)')\n",
    "plt.show()"
   ]
  },
  {
   "cell_type": "code",
   "execution_count": null,
   "metadata": {
    "id": "5kIrePA0FjJx"
   },
   "outputs": [],
   "source": []
  }
 ],
 "metadata": {
  "colab": {
   "collapsed_sections": [],
   "name": "czipfs_law.ipynb",
   "provenance": []
  },
  "kernelspec": {
   "display_name": "Python 3 (ipykernel)",
   "language": "python",
   "name": "python3"
  },
  "language_info": {
   "codemirror_mode": {
    "name": "ipython",
    "version": 3
   },
   "file_extension": ".py",
   "mimetype": "text/x-python",
   "name": "python",
   "nbconvert_exporter": "python",
   "pygments_lexer": "ipython3",
   "version": "3.10.3"
  }
 },
 "nbformat": 4,
 "nbformat_minor": 1
}
